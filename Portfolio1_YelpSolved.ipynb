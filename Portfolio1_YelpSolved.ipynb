{
 "cells": [
  {
   "cell_type": "markdown",
   "metadata": {},
   "source": [
    "# Analysis of Yelp Data\n",
    "\n",
    "\n",
    "The Yelp dataset is a collection of user-generated reviews and associated data for businesses in various cities. The data includes information such as the business name, category, location, and rating, as well as the user ID and review text for each review. This data can be used to analyze patterns and trends in consumer behavior, business performance, and geographic locations. Additionally, the dataset provides an opportunity to explore the relationships between different variables, such as ratings, reviews, and business categories. This data can be leveraged to gain insights and make informed decisions in a variety of industries, including marketing, business management, and public policy.\n",
    "\n",
    "Description of the variables of the data used here.\n",
    "\n",
    "* __business_id__ - A unique identifier for each business in the dataset\n",
    "* __business_categories__ - A list of categories associated with the business\n",
    "* __business_city__ - The city where the business is located.\n",
    "* __user_id__ - A unique identifier for each user who has written a review.\n",
    "* __text__ - The text of the review.\n",
    "* __stars__ - The user's rating towards the business\n",
    "* __useful__ - The number of times the review was voted as useful.\n",
    "* __date__ - The date the review was posted."
   ]
  },
  {
   "cell_type": "code",
   "execution_count": 4,
   "metadata": {},
   "outputs": [],
   "source": [
    "student_name = \"Ayushi\"\n",
    "student_ID = \"47684658\""
   ]
  },
  {
   "cell_type": "markdown",
   "metadata": {},
   "source": [
    " # Q1. Check and remove missing data\n",
    " \n",
    "### Q1.1 Write a Python code snippet that checks for missing values in each column of the dataset. If any, only display the names of the columns with missing values and their corresponding number of missing values. Print the length of the data before removing the missing data.\n",
    "\n",
    "Note: Only output the number of missing values for the columns having at least one missing value!"
   ]
  },
  {
   "cell_type": "code",
   "execution_count": 3,
   "metadata": {},
   "outputs": [
    {
     "data": {
      "text/html": [
       "<div>\n",
       "<style scoped>\n",
       "    .dataframe tbody tr th:only-of-type {\n",
       "        vertical-align: middle;\n",
       "    }\n",
       "\n",
       "    .dataframe tbody tr th {\n",
       "        vertical-align: top;\n",
       "    }\n",
       "\n",
       "    .dataframe thead th {\n",
       "        text-align: right;\n",
       "    }\n",
       "</style>\n",
       "<table border=\"1\" class=\"dataframe\">\n",
       "  <thead>\n",
       "    <tr style=\"text-align: right;\">\n",
       "      <th></th>\n",
       "      <th>business_categories</th>\n",
       "      <th>business_city</th>\n",
       "      <th>business_id</th>\n",
       "      <th>date</th>\n",
       "      <th>stars</th>\n",
       "      <th>text</th>\n",
       "      <th>useful</th>\n",
       "      <th>user_id</th>\n",
       "    </tr>\n",
       "  </thead>\n",
       "  <tbody>\n",
       "    <tr>\n",
       "      <th>0</th>\n",
       "      <td>Breakfast &amp; Brunch; Restaurants</td>\n",
       "      <td>Phoenix</td>\n",
       "      <td>9yKzy9PApeiPPOUJEtnvkg</td>\n",
       "      <td>26/1/2011</td>\n",
       "      <td>5</td>\n",
       "      <td>My wife took me here on my birthday for breakf...</td>\n",
       "      <td>5</td>\n",
       "      <td>rLtl8ZkDX5vH5nAx9C3q5Q</td>\n",
       "    </tr>\n",
       "    <tr>\n",
       "      <th>1</th>\n",
       "      <td>Italian; Pizza; Restaurants</td>\n",
       "      <td>Phoenix</td>\n",
       "      <td>ZRJwVLyzEJq1VAihDhYiow</td>\n",
       "      <td>27/7/2011</td>\n",
       "      <td>5</td>\n",
       "      <td>I have no idea why some people give bad review...</td>\n",
       "      <td>0</td>\n",
       "      <td>0a2KyEL0d3Yb1V6aivbIuQ</td>\n",
       "    </tr>\n",
       "    <tr>\n",
       "      <th>2</th>\n",
       "      <td>Middle Eastern; Restaurants</td>\n",
       "      <td>Tempe</td>\n",
       "      <td>6oRAC4uyJCsJl1X0WZpVSA</td>\n",
       "      <td>14/6/2012</td>\n",
       "      <td>4</td>\n",
       "      <td>love the gyro plate. Rice is so good and I als...</td>\n",
       "      <td>1</td>\n",
       "      <td>0hT2KtfLiobPvh6cDC8JQg</td>\n",
       "    </tr>\n",
       "    <tr>\n",
       "      <th>3</th>\n",
       "      <td>Active Life; Dog Parks; Parks</td>\n",
       "      <td>Scottsdale</td>\n",
       "      <td>_1QQZuf4zZOyFCvXc0o6Vg</td>\n",
       "      <td>27/5/2010</td>\n",
       "      <td>5</td>\n",
       "      <td>Rosie, Dakota, and I LOVE Chaparral Dog Park!!...</td>\n",
       "      <td>2</td>\n",
       "      <td>uZetl9T0NcROGOyFfughhg</td>\n",
       "    </tr>\n",
       "    <tr>\n",
       "      <th>4</th>\n",
       "      <td>Tires; Automotive</td>\n",
       "      <td>Mesa</td>\n",
       "      <td>6ozycU1RpktNG2-1BroVtw</td>\n",
       "      <td>5/1/2012</td>\n",
       "      <td>5</td>\n",
       "      <td>General Manager Scott Petello is a good egg!!!...</td>\n",
       "      <td>0</td>\n",
       "      <td>vYmM4KTsC8ZfQBg-j5MWkw</td>\n",
       "    </tr>\n",
       "    <tr>\n",
       "      <th>5</th>\n",
       "      <td>Wine Bars; Bars; American (New); Nightlife; Re...</td>\n",
       "      <td>Phoenix</td>\n",
       "      <td>#NAME?</td>\n",
       "      <td>13/12/2007</td>\n",
       "      <td>4</td>\n",
       "      <td>Quiessence is, simply put, beautiful.  Full wi...</td>\n",
       "      <td>3</td>\n",
       "      <td>sqYN3lNgvPbPCTRsMFu27g</td>\n",
       "    </tr>\n",
       "    <tr>\n",
       "      <th>6</th>\n",
       "      <td>Mexican; Restaurants</td>\n",
       "      <td>Phoenix</td>\n",
       "      <td>zp713qNhx8d9KCJJnrw1xA</td>\n",
       "      <td>12/2/2010</td>\n",
       "      <td>5</td>\n",
       "      <td>Drop what you're doing and drive here. After I...</td>\n",
       "      <td>7</td>\n",
       "      <td>wFweIWhv2fREZV_dYkz_1g</td>\n",
       "    </tr>\n",
       "    <tr>\n",
       "      <th>7</th>\n",
       "      <td>Hotels &amp; Travel; Airports</td>\n",
       "      <td>Phoenix</td>\n",
       "      <td>hW0Ne_HTHEAgGF1rAdmR-g</td>\n",
       "      <td>12/7/2012</td>\n",
       "      <td>4</td>\n",
       "      <td>Luckily, I didn't have to travel far to make m...</td>\n",
       "      <td>1</td>\n",
       "      <td>1ieuYcKS7zeAv_U15AB13A</td>\n",
       "    </tr>\n",
       "    <tr>\n",
       "      <th>8</th>\n",
       "      <td>Sushi Bars; Restaurants</td>\n",
       "      <td>Phoenix</td>\n",
       "      <td>wNUea3IXZWD63bbOQaOH-g</td>\n",
       "      <td>17/8/2012</td>\n",
       "      <td>4</td>\n",
       "      <td>Definitely come for Happy hour! Prices are ama...</td>\n",
       "      <td>0</td>\n",
       "      <td>Vh_DlizgGhSqQh4qfZ2h6A</td>\n",
       "    </tr>\n",
       "    <tr>\n",
       "      <th>9</th>\n",
       "      <td>Food; Tea Rooms; Japanese; Restaurants</td>\n",
       "      <td>Phoenix</td>\n",
       "      <td>nMHhuYan8e3cONo3PornJA</td>\n",
       "      <td>11/8/2010</td>\n",
       "      <td>5</td>\n",
       "      <td>Nobuo shows his unique talents with everything...</td>\n",
       "      <td>1</td>\n",
       "      <td>sUNkXg8-KFtCMQDV6zRzQg</td>\n",
       "    </tr>\n",
       "  </tbody>\n",
       "</table>\n",
       "</div>"
      ],
      "text/plain": [
       "                                 business_categories business_city  \\\n",
       "0                    Breakfast & Brunch; Restaurants       Phoenix   \n",
       "1                        Italian; Pizza; Restaurants       Phoenix   \n",
       "2                        Middle Eastern; Restaurants         Tempe   \n",
       "3                      Active Life; Dog Parks; Parks    Scottsdale   \n",
       "4                                  Tires; Automotive          Mesa   \n",
       "5  Wine Bars; Bars; American (New); Nightlife; Re...       Phoenix   \n",
       "6                               Mexican; Restaurants       Phoenix   \n",
       "7                          Hotels & Travel; Airports       Phoenix   \n",
       "8                            Sushi Bars; Restaurants       Phoenix   \n",
       "9             Food; Tea Rooms; Japanese; Restaurants       Phoenix   \n",
       "\n",
       "              business_id        date  stars  \\\n",
       "0  9yKzy9PApeiPPOUJEtnvkg   26/1/2011      5   \n",
       "1  ZRJwVLyzEJq1VAihDhYiow   27/7/2011      5   \n",
       "2  6oRAC4uyJCsJl1X0WZpVSA   14/6/2012      4   \n",
       "3  _1QQZuf4zZOyFCvXc0o6Vg   27/5/2010      5   \n",
       "4  6ozycU1RpktNG2-1BroVtw    5/1/2012      5   \n",
       "5                  #NAME?  13/12/2007      4   \n",
       "6  zp713qNhx8d9KCJJnrw1xA   12/2/2010      5   \n",
       "7  hW0Ne_HTHEAgGF1rAdmR-g   12/7/2012      4   \n",
       "8  wNUea3IXZWD63bbOQaOH-g   17/8/2012      4   \n",
       "9  nMHhuYan8e3cONo3PornJA   11/8/2010      5   \n",
       "\n",
       "                                                text  useful  \\\n",
       "0  My wife took me here on my birthday for breakf...       5   \n",
       "1  I have no idea why some people give bad review...       0   \n",
       "2  love the gyro plate. Rice is so good and I als...       1   \n",
       "3  Rosie, Dakota, and I LOVE Chaparral Dog Park!!...       2   \n",
       "4  General Manager Scott Petello is a good egg!!!...       0   \n",
       "5  Quiessence is, simply put, beautiful.  Full wi...       3   \n",
       "6  Drop what you're doing and drive here. After I...       7   \n",
       "7  Luckily, I didn't have to travel far to make m...       1   \n",
       "8  Definitely come for Happy hour! Prices are ama...       0   \n",
       "9  Nobuo shows his unique talents with everything...       1   \n",
       "\n",
       "                  user_id  \n",
       "0  rLtl8ZkDX5vH5nAx9C3q5Q  \n",
       "1  0a2KyEL0d3Yb1V6aivbIuQ  \n",
       "2  0hT2KtfLiobPvh6cDC8JQg  \n",
       "3  uZetl9T0NcROGOyFfughhg  \n",
       "4  vYmM4KTsC8ZfQBg-j5MWkw  \n",
       "5  sqYN3lNgvPbPCTRsMFu27g  \n",
       "6  wFweIWhv2fREZV_dYkz_1g  \n",
       "7  1ieuYcKS7zeAv_U15AB13A  \n",
       "8  Vh_DlizgGhSqQh4qfZ2h6A  \n",
       "9  sUNkXg8-KFtCMQDV6zRzQg  "
      ]
     },
     "execution_count": 3,
     "metadata": {},
     "output_type": "execute_result"
    }
   ],
   "source": [
    "# Importing Pandas\n",
    "import pandas as pd\n",
    "\n",
    "#Reading the data \n",
    "yelp = pd.read_csv('D:\\AnacondaYAY\\Data Science\\portfolio-Uwuayu\\Portfolio-1\\yelp.csv')\n",
    "yelp.head(10)\n"
   ]
  },
  {
   "cell_type": "code",
   "execution_count": 6,
   "metadata": {},
   "outputs": [
    {
     "data": {
      "text/plain": [
       "Index(['business_categories', 'business_city', 'business_id', 'date', 'stars',\n",
       "       'text', 'useful', 'user_id'],\n",
       "      dtype='object')"
      ]
     },
     "execution_count": 6,
     "metadata": {},
     "output_type": "execute_result"
    }
   ],
   "source": [
    "yelp.columns"
   ]
  },
  {
   "cell_type": "code",
   "execution_count": 5,
   "metadata": {},
   "outputs": [
    {
     "data": {
      "text/plain": [
       "6"
      ]
     },
     "execution_count": 5,
     "metadata": {},
     "output_type": "execute_result"
    }
   ],
   "source": [
    "#Finding missing values\n",
    "yelp['business_categories'].isna().sum()\n",
    "yelp['text'].isna().sum()"
   ]
  },
  {
   "cell_type": "code",
   "execution_count": 7,
   "metadata": {},
   "outputs": [
    {
     "name": "stdout",
     "output_type": "stream",
     "text": [
      "The length of the data before removing missing values is 229907\n"
     ]
    }
   ],
   "source": [
    "#Lenght of the data before removing missing values\n",
    "print(\"The length of the data before removing missing values is \" + str(len(yelp)))\n",
    "\n"
   ]
  },
  {
   "cell_type": "code",
   "execution_count": 2,
   "metadata": {},
   "outputs": [
    {
     "name": "stdout",
     "output_type": "stream",
     "text": [
      "business_categories 777\n",
      "text 6\n"
     ]
    }
   ],
   "source": [
    "for i in yelp.columns:\n",
    "    count = yelp[i].isna().sum()\n",
    "    if count > 0:\n",
    "        print(i+\" \"+ str(count))"
   ]
  },
  {
   "cell_type": "code",
   "execution_count": null,
   "metadata": {},
   "outputs": [],
   "source": []
  },
  {
   "cell_type": "markdown",
   "metadata": {},
   "source": [
    "### Q1.2 Remove any row that contains at least one missing value, and output the length of the resulting cleaned dataset; After that, remove any row that contain invalid value with either \"#NAME?\" or \"#VALUE!\" in the `business_id` and `user_id` columns, and output the length of the resulting cleaned dataset."
   ]
  },
  {
   "cell_type": "code",
   "execution_count": 13,
   "metadata": {},
   "outputs": [
    {
     "data": {
      "text/plain": [
       "business_categories    0\n",
       "business_city          0\n",
       "business_id            0\n",
       "date                   0\n",
       "stars                  0\n",
       "text                   0\n",
       "useful                 0\n",
       "user_id                0\n",
       "dtype: int64"
      ]
     },
     "execution_count": 13,
     "metadata": {},
     "output_type": "execute_result"
    }
   ],
   "source": [
    "# IGNORE\n",
    "\"\"\"yelp.dropna(inplace=True)\n",
    "yelp.isna().sum()\n",
    "a.isna().sum()\"\"\"\n",
    "\n",
    "#Removing rows that contained one missing value\n",
    "yelp = pd.read_csv('D:\\AnacondaYAY\\Data Science\\portfolio-Uwuayu\\Portfolio-1\\yelp.csv')\n",
    "yelp.isna().sum()\n",
    "yelp.dropna(inplace = True)\n",
    "yelp.isna().sum() \n"
   ]
  },
  {
   "cell_type": "code",
   "execution_count": 17,
   "metadata": {},
   "outputs": [
    {
     "data": {
      "text/plain": [
       "1832992"
      ]
     },
     "execution_count": 17,
     "metadata": {},
     "output_type": "execute_result"
    }
   ],
   "source": [
    "#check size\n",
    "yelp.size"
   ]
  },
  {
   "cell_type": "code",
   "execution_count": 15,
   "metadata": {},
   "outputs": [
    {
     "data": {
      "text/html": [
       "<div>\n",
       "<style scoped>\n",
       "    .dataframe tbody tr th:only-of-type {\n",
       "        vertical-align: middle;\n",
       "    }\n",
       "\n",
       "    .dataframe tbody tr th {\n",
       "        vertical-align: top;\n",
       "    }\n",
       "\n",
       "    .dataframe thead th {\n",
       "        text-align: right;\n",
       "    }\n",
       "</style>\n",
       "<table border=\"1\" class=\"dataframe\">\n",
       "  <thead>\n",
       "    <tr style=\"text-align: right;\">\n",
       "      <th></th>\n",
       "      <th>business_categories</th>\n",
       "      <th>business_city</th>\n",
       "      <th>business_id</th>\n",
       "      <th>date</th>\n",
       "      <th>stars</th>\n",
       "      <th>text</th>\n",
       "      <th>useful</th>\n",
       "      <th>user_id</th>\n",
       "    </tr>\n",
       "  </thead>\n",
       "  <tbody>\n",
       "    <tr>\n",
       "      <th>0</th>\n",
       "      <td>Breakfast &amp; Brunch; Restaurants</td>\n",
       "      <td>Phoenix</td>\n",
       "      <td>9yKzy9PApeiPPOUJEtnvkg</td>\n",
       "      <td>26/1/2011</td>\n",
       "      <td>5</td>\n",
       "      <td>My wife took me here on my birthday for breakf...</td>\n",
       "      <td>5</td>\n",
       "      <td>rLtl8ZkDX5vH5nAx9C3q5Q</td>\n",
       "    </tr>\n",
       "    <tr>\n",
       "      <th>1</th>\n",
       "      <td>Italian; Pizza; Restaurants</td>\n",
       "      <td>Phoenix</td>\n",
       "      <td>ZRJwVLyzEJq1VAihDhYiow</td>\n",
       "      <td>27/7/2011</td>\n",
       "      <td>5</td>\n",
       "      <td>I have no idea why some people give bad review...</td>\n",
       "      <td>0</td>\n",
       "      <td>0a2KyEL0d3Yb1V6aivbIuQ</td>\n",
       "    </tr>\n",
       "    <tr>\n",
       "      <th>2</th>\n",
       "      <td>Middle Eastern; Restaurants</td>\n",
       "      <td>Tempe</td>\n",
       "      <td>6oRAC4uyJCsJl1X0WZpVSA</td>\n",
       "      <td>14/6/2012</td>\n",
       "      <td>4</td>\n",
       "      <td>love the gyro plate. Rice is so good and I als...</td>\n",
       "      <td>1</td>\n",
       "      <td>0hT2KtfLiobPvh6cDC8JQg</td>\n",
       "    </tr>\n",
       "    <tr>\n",
       "      <th>3</th>\n",
       "      <td>Active Life; Dog Parks; Parks</td>\n",
       "      <td>Scottsdale</td>\n",
       "      <td>_1QQZuf4zZOyFCvXc0o6Vg</td>\n",
       "      <td>27/5/2010</td>\n",
       "      <td>5</td>\n",
       "      <td>Rosie, Dakota, and I LOVE Chaparral Dog Park!!...</td>\n",
       "      <td>2</td>\n",
       "      <td>uZetl9T0NcROGOyFfughhg</td>\n",
       "    </tr>\n",
       "    <tr>\n",
       "      <th>4</th>\n",
       "      <td>Tires; Automotive</td>\n",
       "      <td>Mesa</td>\n",
       "      <td>6ozycU1RpktNG2-1BroVtw</td>\n",
       "      <td>5/1/2012</td>\n",
       "      <td>5</td>\n",
       "      <td>General Manager Scott Petello is a good egg!!!...</td>\n",
       "      <td>0</td>\n",
       "      <td>vYmM4KTsC8ZfQBg-j5MWkw</td>\n",
       "    </tr>\n",
       "    <tr>\n",
       "      <th>...</th>\n",
       "      <td>...</td>\n",
       "      <td>...</td>\n",
       "      <td>...</td>\n",
       "      <td>...</td>\n",
       "      <td>...</td>\n",
       "      <td>...</td>\n",
       "      <td>...</td>\n",
       "      <td>...</td>\n",
       "    </tr>\n",
       "    <tr>\n",
       "      <th>229901</th>\n",
       "      <td>Event Planning &amp; Services; Venues &amp; Event Spaces</td>\n",
       "      <td>Phoenix</td>\n",
       "      <td>C1tH3sEQra33EOTk56Eu1Q</td>\n",
       "      <td>11/9/2008</td>\n",
       "      <td>3</td>\n",
       "      <td>I'm sorry to this but I must admit I was prett...</td>\n",
       "      <td>2</td>\n",
       "      <td>q9XgOylNsSbqZqF_SO3-OQ</td>\n",
       "    </tr>\n",
       "    <tr>\n",
       "      <th>229902</th>\n",
       "      <td>Gastropubs; Restaurants</td>\n",
       "      <td>Tempe</td>\n",
       "      <td>vnffHkFJbmd-J3OaBbK2Eg</td>\n",
       "      <td>14/4/2011</td>\n",
       "      <td>2</td>\n",
       "      <td>I really wanted to like this place because it'...</td>\n",
       "      <td>0</td>\n",
       "      <td>6e7pZofhDuIlD_rX2oYirQ</td>\n",
       "    </tr>\n",
       "    <tr>\n",
       "      <th>229903</th>\n",
       "      <td>Hotels &amp; Travel; Event Planning &amp; Services; Ho...</td>\n",
       "      <td>Peoria</td>\n",
       "      <td>l5oUrgQ190l8CcN8uzd_pA</td>\n",
       "      <td>23/1/2011</td>\n",
       "      <td>1</td>\n",
       "      <td>My husband I stayed here for two nights.  Of c...</td>\n",
       "      <td>2</td>\n",
       "      <td>dDNfSFT0VApxPmURclX6_g</td>\n",
       "    </tr>\n",
       "    <tr>\n",
       "      <th>229905</th>\n",
       "      <td>Wine Bars; Bars; Pizza; Nightlife; Restaurants</td>\n",
       "      <td>Tempe</td>\n",
       "      <td>YQvg0JCGRFUkb6reMMf3Iw</td>\n",
       "      <td>18/1/2011</td>\n",
       "      <td>3</td>\n",
       "      <td>I have to take a star off for the spotty servi...</td>\n",
       "      <td>2</td>\n",
       "      <td>jopndPrv-H5KW2CfScnw9A</td>\n",
       "    </tr>\n",
       "    <tr>\n",
       "      <th>229906</th>\n",
       "      <td>Churches; Religious Organizations</td>\n",
       "      <td>Phoenix</td>\n",
       "      <td>gKxOZvQTTd5hpFa3r5igGQ</td>\n",
       "      <td>14/8/2010</td>\n",
       "      <td>5</td>\n",
       "      <td>So cool, yo.</td>\n",
       "      <td>0</td>\n",
       "      <td>mbRUG6h0Mgb2XIJvscIoMg</td>\n",
       "    </tr>\n",
       "  </tbody>\n",
       "</table>\n",
       "<p>222759 rows × 8 columns</p>\n",
       "</div>"
      ],
      "text/plain": [
       "                                      business_categories business_city  \\\n",
       "0                         Breakfast & Brunch; Restaurants       Phoenix   \n",
       "1                             Italian; Pizza; Restaurants       Phoenix   \n",
       "2                             Middle Eastern; Restaurants         Tempe   \n",
       "3                           Active Life; Dog Parks; Parks    Scottsdale   \n",
       "4                                       Tires; Automotive          Mesa   \n",
       "...                                                   ...           ...   \n",
       "229901   Event Planning & Services; Venues & Event Spaces       Phoenix   \n",
       "229902                            Gastropubs; Restaurants         Tempe   \n",
       "229903  Hotels & Travel; Event Planning & Services; Ho...        Peoria   \n",
       "229905     Wine Bars; Bars; Pizza; Nightlife; Restaurants         Tempe   \n",
       "229906                  Churches; Religious Organizations       Phoenix   \n",
       "\n",
       "                   business_id       date  stars  \\\n",
       "0       9yKzy9PApeiPPOUJEtnvkg  26/1/2011      5   \n",
       "1       ZRJwVLyzEJq1VAihDhYiow  27/7/2011      5   \n",
       "2       6oRAC4uyJCsJl1X0WZpVSA  14/6/2012      4   \n",
       "3       _1QQZuf4zZOyFCvXc0o6Vg  27/5/2010      5   \n",
       "4       6ozycU1RpktNG2-1BroVtw   5/1/2012      5   \n",
       "...                        ...        ...    ...   \n",
       "229901  C1tH3sEQra33EOTk56Eu1Q  11/9/2008      3   \n",
       "229902  vnffHkFJbmd-J3OaBbK2Eg  14/4/2011      2   \n",
       "229903  l5oUrgQ190l8CcN8uzd_pA  23/1/2011      1   \n",
       "229905  YQvg0JCGRFUkb6reMMf3Iw  18/1/2011      3   \n",
       "229906  gKxOZvQTTd5hpFa3r5igGQ  14/8/2010      5   \n",
       "\n",
       "                                                     text  useful  \\\n",
       "0       My wife took me here on my birthday for breakf...       5   \n",
       "1       I have no idea why some people give bad review...       0   \n",
       "2       love the gyro plate. Rice is so good and I als...       1   \n",
       "3       Rosie, Dakota, and I LOVE Chaparral Dog Park!!...       2   \n",
       "4       General Manager Scott Petello is a good egg!!!...       0   \n",
       "...                                                   ...     ...   \n",
       "229901  I'm sorry to this but I must admit I was prett...       2   \n",
       "229902  I really wanted to like this place because it'...       0   \n",
       "229903  My husband I stayed here for two nights.  Of c...       2   \n",
       "229905  I have to take a star off for the spotty servi...       2   \n",
       "229906                                       So cool, yo.       0   \n",
       "\n",
       "                       user_id  \n",
       "0       rLtl8ZkDX5vH5nAx9C3q5Q  \n",
       "1       0a2KyEL0d3Yb1V6aivbIuQ  \n",
       "2       0hT2KtfLiobPvh6cDC8JQg  \n",
       "3       uZetl9T0NcROGOyFfughhg  \n",
       "4       vYmM4KTsC8ZfQBg-j5MWkw  \n",
       "...                        ...  \n",
       "229901  q9XgOylNsSbqZqF_SO3-OQ  \n",
       "229902  6e7pZofhDuIlD_rX2oYirQ  \n",
       "229903  dDNfSFT0VApxPmURclX6_g  \n",
       "229905  jopndPrv-H5KW2CfScnw9A  \n",
       "229906  mbRUG6h0Mgb2XIJvscIoMg  \n",
       "\n",
       "[222759 rows x 8 columns]"
      ]
     },
     "execution_count": 15,
     "metadata": {},
     "output_type": "execute_result"
    }
   ],
   "source": [
    "#replacing invalid values\n",
    "a = yelp['business_id'].isin(['#NAME?','#VALUE!'])\n",
    "b = yelp['user_id'].isin(['#NAME?','#VALUE!'])\n",
    "\n",
    "# Dropping rows with missing values\n",
    "yelp_new = yelp[~a&~b]\n",
    "yelp_new"
   ]
  },
  {
   "cell_type": "markdown",
   "metadata": {},
   "source": [
    "# Q2. Random Subset Selection of Yelp Businesses by City"
   ]
  },
  {
   "cell_type": "markdown",
   "metadata": {},
   "source": [
    "Selecting a random subset of cities from the Yelp business dataset and extracting all the rows corresponding to businesses located in those cities can be useful for various purposes. For example, it can be used to \n",
    "perform exploratory data analysis on a smaller subset of the dataset, which can be more manageable and faster to process than the entire dataset. Suppose you want to select a random subset of 10 cities from the dataset and extract all the rows that correspond to businesses located in those cities. At last, print the length of the resulting sample data. Write Python code that accomplishes this task.\n",
    "\n",
    "Note: Use the $random.sample()$ function to select 10 random cities from the list of unique cities. Set the random seed to 42 before selecting the cities!!!"
   ]
  },
  {
   "cell_type": "code",
   "execution_count": 25,
   "metadata": {},
   "outputs": [],
   "source": [
    "# your code and solutions\n",
    "import numpy as np\n",
    "import matplotlib.pyplot as plt"
   ]
  },
  {
   "cell_type": "code",
   "execution_count": 26,
   "metadata": {},
   "outputs": [],
   "source": [
    "# Reading dataset\n",
    "yelp = pd.read_csv('D:\\AnacondaYAY\\Data Science\\portfolio-Uwuayu\\Portfolio-1\\yelp.csv')"
   ]
  },
  {
   "cell_type": "code",
   "execution_count": 27,
   "metadata": {},
   "outputs": [
    {
     "data": {
      "text/plain": [
       "array(['Phoenix', 'Tempe', 'Scottsdale', 'Mesa', 'Chandler', 'Gilbert',\n",
       "       'Glendale', 'Tolleson', 'Surprise', 'Sun City', 'Paradise Valley',\n",
       "       'Peoria', 'Buckeye', 'Florence', 'Avondale', 'Goodyear', 'Anthem',\n",
       "       'Cave Creek', 'Youngtown', 'Queen Creek', 'Fountain Hills',\n",
       "       'Fountain Hls', 'Sun Lakes', 'Fort McDowell', 'Apache Junction',\n",
       "       'Litchfield Park', 'Morristown', 'Waddell', 'Carefree', 'Laveen',\n",
       "       'Wickenburg', 'Casa Grande', 'Guadalupe', 'Maricopa',\n",
       "       'Gold Canyon', 'San Tan Valley', 'North Scottsdale',\n",
       "       'Tortilla Flat', 'Sun City West', 'Good Year', 'Ahwatukee',\n",
       "       'Scottsdale ', 'Rio Verde', 'Coolidge', 'Gila Bend', 'El Mirage',\n",
       "       'Higley', 'Saguaro Lake', 'Goldfield', 'Tucson', 'Yuma',\n",
       "       'Charleston', 'Pheonix', 'Stanfield', 'Glendale Az', 'North Pinal',\n",
       "       'Sun City Anthem', 'Grand Junction', 'Tonopah', 'Wittmann',\n",
       "       'Tonto Basin'], dtype=object)"
      ]
     },
     "execution_count": 27,
     "metadata": {},
     "output_type": "execute_result"
    }
   ],
   "source": [
    "# Set random seed for reproducibility\n",
    "np.random.seed(42)\n",
    "\n",
    "#list of unique cities\n",
    "yelp['business_city'].unique()"
   ]
  },
  {
   "cell_type": "code",
   "execution_count": 30,
   "metadata": {},
   "outputs": [
    {
     "data": {
      "text/html": [
       "<div>\n",
       "<style scoped>\n",
       "    .dataframe tbody tr th:only-of-type {\n",
       "        vertical-align: middle;\n",
       "    }\n",
       "\n",
       "    .dataframe tbody tr th {\n",
       "        vertical-align: top;\n",
       "    }\n",
       "\n",
       "    .dataframe thead th {\n",
       "        text-align: right;\n",
       "    }\n",
       "</style>\n",
       "<table border=\"1\" class=\"dataframe\">\n",
       "  <thead>\n",
       "    <tr style=\"text-align: right;\">\n",
       "      <th></th>\n",
       "      <th>business_categories</th>\n",
       "      <th>business_city</th>\n",
       "      <th>business_id</th>\n",
       "      <th>date</th>\n",
       "      <th>stars</th>\n",
       "      <th>text</th>\n",
       "      <th>useful</th>\n",
       "      <th>user_id</th>\n",
       "    </tr>\n",
       "  </thead>\n",
       "  <tbody>\n",
       "    <tr>\n",
       "      <th>0</th>\n",
       "      <td>Breakfast &amp; Brunch; Restaurants</td>\n",
       "      <td>Phoenix</td>\n",
       "      <td>9yKzy9PApeiPPOUJEtnvkg</td>\n",
       "      <td>26/1/2011</td>\n",
       "      <td>5</td>\n",
       "      <td>My wife took me here on my birthday for breakf...</td>\n",
       "      <td>5</td>\n",
       "      <td>rLtl8ZkDX5vH5nAx9C3q5Q</td>\n",
       "    </tr>\n",
       "    <tr>\n",
       "      <th>1</th>\n",
       "      <td>Italian; Pizza; Restaurants</td>\n",
       "      <td>Phoenix</td>\n",
       "      <td>ZRJwVLyzEJq1VAihDhYiow</td>\n",
       "      <td>27/7/2011</td>\n",
       "      <td>5</td>\n",
       "      <td>I have no idea why some people give bad review...</td>\n",
       "      <td>0</td>\n",
       "      <td>0a2KyEL0d3Yb1V6aivbIuQ</td>\n",
       "    </tr>\n",
       "    <tr>\n",
       "      <th>2</th>\n",
       "      <td>Middle Eastern; Restaurants</td>\n",
       "      <td>Tempe</td>\n",
       "      <td>6oRAC4uyJCsJl1X0WZpVSA</td>\n",
       "      <td>14/6/2012</td>\n",
       "      <td>4</td>\n",
       "      <td>love the gyro plate. Rice is so good and I als...</td>\n",
       "      <td>1</td>\n",
       "      <td>0hT2KtfLiobPvh6cDC8JQg</td>\n",
       "    </tr>\n",
       "    <tr>\n",
       "      <th>3</th>\n",
       "      <td>Active Life; Dog Parks; Parks</td>\n",
       "      <td>Scottsdale</td>\n",
       "      <td>_1QQZuf4zZOyFCvXc0o6Vg</td>\n",
       "      <td>27/5/2010</td>\n",
       "      <td>5</td>\n",
       "      <td>Rosie, Dakota, and I LOVE Chaparral Dog Park!!...</td>\n",
       "      <td>2</td>\n",
       "      <td>uZetl9T0NcROGOyFfughhg</td>\n",
       "    </tr>\n",
       "    <tr>\n",
       "      <th>4</th>\n",
       "      <td>Tires; Automotive</td>\n",
       "      <td>Mesa</td>\n",
       "      <td>6ozycU1RpktNG2-1BroVtw</td>\n",
       "      <td>5/1/2012</td>\n",
       "      <td>5</td>\n",
       "      <td>General Manager Scott Petello is a good egg!!!...</td>\n",
       "      <td>0</td>\n",
       "      <td>vYmM4KTsC8ZfQBg-j5MWkw</td>\n",
       "    </tr>\n",
       "    <tr>\n",
       "      <th>...</th>\n",
       "      <td>...</td>\n",
       "      <td>...</td>\n",
       "      <td>...</td>\n",
       "      <td>...</td>\n",
       "      <td>...</td>\n",
       "      <td>...</td>\n",
       "      <td>...</td>\n",
       "      <td>...</td>\n",
       "    </tr>\n",
       "    <tr>\n",
       "      <th>229901</th>\n",
       "      <td>Event Planning &amp; Services; Venues &amp; Event Spaces</td>\n",
       "      <td>Phoenix</td>\n",
       "      <td>C1tH3sEQra33EOTk56Eu1Q</td>\n",
       "      <td>11/9/2008</td>\n",
       "      <td>3</td>\n",
       "      <td>I'm sorry to this but I must admit I was prett...</td>\n",
       "      <td>2</td>\n",
       "      <td>q9XgOylNsSbqZqF_SO3-OQ</td>\n",
       "    </tr>\n",
       "    <tr>\n",
       "      <th>229902</th>\n",
       "      <td>Gastropubs; Restaurants</td>\n",
       "      <td>Tempe</td>\n",
       "      <td>vnffHkFJbmd-J3OaBbK2Eg</td>\n",
       "      <td>14/4/2011</td>\n",
       "      <td>2</td>\n",
       "      <td>I really wanted to like this place because it'...</td>\n",
       "      <td>0</td>\n",
       "      <td>6e7pZofhDuIlD_rX2oYirQ</td>\n",
       "    </tr>\n",
       "    <tr>\n",
       "      <th>229904</th>\n",
       "      <td>Pubs; Bars; American (Traditional); Nightlife;...</td>\n",
       "      <td>Tempe</td>\n",
       "      <td>#NAME?</td>\n",
       "      <td>11/10/2010</td>\n",
       "      <td>4</td>\n",
       "      <td>Cool atmosphere. A lot of beers on tap and goo...</td>\n",
       "      <td>0</td>\n",
       "      <td>M5wHt6Odh1k5v0tIjqd8DQ</td>\n",
       "    </tr>\n",
       "    <tr>\n",
       "      <th>229905</th>\n",
       "      <td>Wine Bars; Bars; Pizza; Nightlife; Restaurants</td>\n",
       "      <td>Tempe</td>\n",
       "      <td>YQvg0JCGRFUkb6reMMf3Iw</td>\n",
       "      <td>18/1/2011</td>\n",
       "      <td>3</td>\n",
       "      <td>I have to take a star off for the spotty servi...</td>\n",
       "      <td>2</td>\n",
       "      <td>jopndPrv-H5KW2CfScnw9A</td>\n",
       "    </tr>\n",
       "    <tr>\n",
       "      <th>229906</th>\n",
       "      <td>Churches; Religious Organizations</td>\n",
       "      <td>Phoenix</td>\n",
       "      <td>gKxOZvQTTd5hpFa3r5igGQ</td>\n",
       "      <td>14/8/2010</td>\n",
       "      <td>5</td>\n",
       "      <td>So cool, yo.</td>\n",
       "      <td>0</td>\n",
       "      <td>mbRUG6h0Mgb2XIJvscIoMg</td>\n",
       "    </tr>\n",
       "  </tbody>\n",
       "</table>\n",
       "<p>209822 rows × 8 columns</p>\n",
       "</div>"
      ],
      "text/plain": [
       "                                      business_categories business_city  \\\n",
       "0                         Breakfast & Brunch; Restaurants       Phoenix   \n",
       "1                             Italian; Pizza; Restaurants       Phoenix   \n",
       "2                             Middle Eastern; Restaurants         Tempe   \n",
       "3                           Active Life; Dog Parks; Parks    Scottsdale   \n",
       "4                                       Tires; Automotive          Mesa   \n",
       "...                                                   ...           ...   \n",
       "229901   Event Planning & Services; Venues & Event Spaces       Phoenix   \n",
       "229902                            Gastropubs; Restaurants         Tempe   \n",
       "229904  Pubs; Bars; American (Traditional); Nightlife;...         Tempe   \n",
       "229905     Wine Bars; Bars; Pizza; Nightlife; Restaurants         Tempe   \n",
       "229906                  Churches; Religious Organizations       Phoenix   \n",
       "\n",
       "                   business_id        date  stars  \\\n",
       "0       9yKzy9PApeiPPOUJEtnvkg   26/1/2011      5   \n",
       "1       ZRJwVLyzEJq1VAihDhYiow   27/7/2011      5   \n",
       "2       6oRAC4uyJCsJl1X0WZpVSA   14/6/2012      4   \n",
       "3       _1QQZuf4zZOyFCvXc0o6Vg   27/5/2010      5   \n",
       "4       6ozycU1RpktNG2-1BroVtw    5/1/2012      5   \n",
       "...                        ...         ...    ...   \n",
       "229901  C1tH3sEQra33EOTk56Eu1Q   11/9/2008      3   \n",
       "229902  vnffHkFJbmd-J3OaBbK2Eg   14/4/2011      2   \n",
       "229904                  #NAME?  11/10/2010      4   \n",
       "229905  YQvg0JCGRFUkb6reMMf3Iw   18/1/2011      3   \n",
       "229906  gKxOZvQTTd5hpFa3r5igGQ   14/8/2010      5   \n",
       "\n",
       "                                                     text  useful  \\\n",
       "0       My wife took me here on my birthday for breakf...       5   \n",
       "1       I have no idea why some people give bad review...       0   \n",
       "2       love the gyro plate. Rice is so good and I als...       1   \n",
       "3       Rosie, Dakota, and I LOVE Chaparral Dog Park!!...       2   \n",
       "4       General Manager Scott Petello is a good egg!!!...       0   \n",
       "...                                                   ...     ...   \n",
       "229901  I'm sorry to this but I must admit I was prett...       2   \n",
       "229902  I really wanted to like this place because it'...       0   \n",
       "229904  Cool atmosphere. A lot of beers on tap and goo...       0   \n",
       "229905  I have to take a star off for the spotty servi...       2   \n",
       "229906                                       So cool, yo.       0   \n",
       "\n",
       "                       user_id  \n",
       "0       rLtl8ZkDX5vH5nAx9C3q5Q  \n",
       "1       0a2KyEL0d3Yb1V6aivbIuQ  \n",
       "2       0hT2KtfLiobPvh6cDC8JQg  \n",
       "3       uZetl9T0NcROGOyFfughhg  \n",
       "4       vYmM4KTsC8ZfQBg-j5MWkw  \n",
       "...                        ...  \n",
       "229901  q9XgOylNsSbqZqF_SO3-OQ  \n",
       "229902  6e7pZofhDuIlD_rX2oYirQ  \n",
       "229904  M5wHt6Odh1k5v0tIjqd8DQ  \n",
       "229905  jopndPrv-H5KW2CfScnw9A  \n",
       "229906  mbRUG6h0Mgb2XIJvscIoMg  \n",
       "\n",
       "[209822 rows x 8 columns]"
      ]
     },
     "execution_count": 30,
     "metadata": {},
     "output_type": "execute_result"
    }
   ],
   "source": [
    " #Randomly selected 10 cities from the list of unique cities\n",
    "\n",
    "random_cities = np.random.choice(yelp['business_city'], size = 10, replace=False)\n",
    "\n",
    "# All rows corresponding to businesses located in the selected cities\n",
    "\n",
    "selected_cities = yelp.loc[yelp['business_city'].isin(random_cities)]\n",
    "selected_cities"
   ]
  },
  {
   "cell_type": "code",
   "execution_count": 31,
   "metadata": {},
   "outputs": [
    {
     "name": "stdout",
     "output_type": "stream",
     "text": [
      "209822\n"
     ]
    }
   ],
   "source": [
    " #length of the resulting sample data\n",
    "\n",
    "print(len(selected_cities))\n"
   ]
  },
  {
   "cell_type": "markdown",
   "metadata": {},
   "source": [
    "# Q3. Descriptive statistics on the data output from Q2\n",
    "### Q3.1 Compute summary statistics for the `stars` column of the sample data\n",
    "Note: the resulting output includes the count, mean, standard deviation, minimum, maximum values of the column."
   ]
  },
  {
   "cell_type": "code",
   "execution_count": 32,
   "metadata": {},
   "outputs": [
    {
     "data": {
      "text/plain": [
       "count    209822.000000\n",
       "mean          3.767541\n",
       "std           1.211452\n",
       "min           1.000000\n",
       "25%           3.000000\n",
       "50%           4.000000\n",
       "75%           5.000000\n",
       "max           5.000000\n",
       "Name: stars, dtype: float64"
      ]
     },
     "execution_count": 32,
     "metadata": {},
     "output_type": "execute_result"
    }
   ],
   "source": [
    "selected_cities.stars.describe()"
   ]
  },
  {
   "cell_type": "code",
   "execution_count": 33,
   "metadata": {},
   "outputs": [
    {
     "data": {
      "text/html": [
       "<div>\n",
       "<style scoped>\n",
       "    .dataframe tbody tr th:only-of-type {\n",
       "        vertical-align: middle;\n",
       "    }\n",
       "\n",
       "    .dataframe tbody tr th {\n",
       "        vertical-align: top;\n",
       "    }\n",
       "\n",
       "    .dataframe thead th {\n",
       "        text-align: right;\n",
       "    }\n",
       "</style>\n",
       "<table border=\"1\" class=\"dataframe\">\n",
       "  <thead>\n",
       "    <tr style=\"text-align: right;\">\n",
       "      <th></th>\n",
       "      <th>index</th>\n",
       "      <th>stars</th>\n",
       "    </tr>\n",
       "  </thead>\n",
       "  <tbody>\n",
       "    <tr>\n",
       "      <th>0</th>\n",
       "      <td>count</td>\n",
       "      <td>209822.000000</td>\n",
       "    </tr>\n",
       "    <tr>\n",
       "      <th>1</th>\n",
       "      <td>mean</td>\n",
       "      <td>3.767541</td>\n",
       "    </tr>\n",
       "    <tr>\n",
       "      <th>2</th>\n",
       "      <td>std</td>\n",
       "      <td>1.211452</td>\n",
       "    </tr>\n",
       "    <tr>\n",
       "      <th>3</th>\n",
       "      <td>min</td>\n",
       "      <td>1.000000</td>\n",
       "    </tr>\n",
       "    <tr>\n",
       "      <th>4</th>\n",
       "      <td>25%</td>\n",
       "      <td>3.000000</td>\n",
       "    </tr>\n",
       "    <tr>\n",
       "      <th>5</th>\n",
       "      <td>50%</td>\n",
       "      <td>4.000000</td>\n",
       "    </tr>\n",
       "    <tr>\n",
       "      <th>6</th>\n",
       "      <td>75%</td>\n",
       "      <td>5.000000</td>\n",
       "    </tr>\n",
       "    <tr>\n",
       "      <th>7</th>\n",
       "      <td>max</td>\n",
       "      <td>5.000000</td>\n",
       "    </tr>\n",
       "  </tbody>\n",
       "</table>\n",
       "</div>"
      ],
      "text/plain": [
       "   index          stars\n",
       "0  count  209822.000000\n",
       "1   mean       3.767541\n",
       "2    std       1.211452\n",
       "3    min       1.000000\n",
       "4    25%       3.000000\n",
       "5    50%       4.000000\n",
       "6    75%       5.000000\n",
       "7    max       5.000000"
      ]
     },
     "execution_count": 33,
     "metadata": {},
     "output_type": "execute_result"
    }
   ],
   "source": [
    "selected_cities.stars.describe().reset_index()"
   ]
  },
  {
   "cell_type": "markdown",
   "metadata": {},
   "source": [
    "### Q3.2 For each city in the dataframe, how many unique businesses are there?\n",
    "\n",
    "Note: the resulting dataframe has two columns: `business_city` and `count`. Compute summary statistics (similar as Q 3.1) for the `count` column."
   ]
  },
  {
   "cell_type": "code",
   "execution_count": 37,
   "metadata": {},
   "outputs": [
    {
     "data": {
      "text/plain": [
       "business_city\n",
       "Ahwatukee            4\n",
       "Anthem              34\n",
       "Apache Junction     46\n",
       "Avondale           129\n",
       "Buckeye             31\n",
       "                  ... \n",
       "Waddell              1\n",
       "Wickenburg          28\n",
       "Wittmann             2\n",
       "Youngtown            7\n",
       "Yuma                 1\n",
       "Name: business_id, Length: 61, dtype: int64"
      ]
     },
     "execution_count": 37,
     "metadata": {},
     "output_type": "execute_result"
    }
   ],
   "source": [
    "# Counting unique business in each city\n",
    "uniqueBiz_byCity = yelp.groupby('business_city')['business_id'].nunique()\n",
    "uniqueBiz_byCity"
   ]
  },
  {
   "cell_type": "markdown",
   "metadata": {},
   "source": [
    "### Q3.3 For each business category and business ID combination in the dataframe, how many unique users have rated the business?\n",
    "\n",
    "Note: the resulting dataframe has three columns: `business_categories`, `business_id`, and `count`. Compute summary statistics (similar as Q 3.1) for the `count` column."
   ]
  },
  {
   "cell_type": "code",
   "execution_count": 71,
   "metadata": {},
   "outputs": [],
   "source": [
    "# unique users that rated the business\n",
    "new_yelp = yelp.groupby(['business_categories','business_id'])['user_id'].nunique().reset_index()"
   ]
  },
  {
   "cell_type": "markdown",
   "metadata": {},
   "source": [
    "# Q4. Plotting and Analysis"
   ]
  },
  {
   "cell_type": "markdown",
   "metadata": {},
   "source": [
    "Explore the distribution of each variable, or the correlation between the `business_city`, `useful`,`business_categories` or `other variables` and the `stars` column in both the cleaned dataset from Q1 and the sampled dataset from Q2. For instance, does some cities tend to provide higher stars than others? Hint: you may use the boxplot function to plot figures for comparison (___Challenge___).\n",
    "    \n",
    "You may need to select the most suitable graphic forms for ease of presentation. Most importantly, for each figure or subfigure, please summarise ___what each plot shows___ (i.e. observations and explanations). Finally, you may need to provide an overall summary of the Yelp data."
   ]
  },
  {
   "cell_type": "markdown",
   "metadata": {},
   "source": [
    "Analysis and observation are open, and require you to think critically and analyze data to develop your own insights and conclusions. It's important for you to analyze the data, identify patterns, draw your own conclusions, and communicate your findings. This fosters critical thinking skills, ownership of learning, and a deeper understanding of the data."
   ]
  },
  {
   "cell_type": "code",
   "execution_count": 43,
   "metadata": {},
   "outputs": [],
   "source": [
    "import matplotlib.pyplot as plt\n",
    "import seaborn as sbn"
   ]
  },
  {
   "cell_type": "code",
   "execution_count": 44,
   "metadata": {},
   "outputs": [
    {
     "data": {
      "image/png": "[encoded data removed]",
      "text/plain": [
       "<Figure size 432x288 with 1 Axes>"
      ]
     },
     "metadata": {
      "needs_background": "light"
     },
     "output_type": "display_data"
    }
   ],
   "source": [
    "\n",
    "# Distribution of stars column in new data set that has been cleaned\n",
    "\n",
    "sbn.boxplot(data = yelp_new, x = 'stars')\n",
    "plt.title('Distribution of Stars in New Dataset')\n",
    "plt.show()"
   ]
  },
  {
   "cell_type": "markdown",
   "metadata": {},
   "source": [
    "# Stars in sample dataset"
   ]
  },
  {
   "cell_type": "code",
   "execution_count": 46,
   "metadata": {},
   "outputs": [
    {
     "data": {
      "image/png": "[encoded data removed]",
      "text/plain": [
       "<Figure size 432x288 with 1 Axes>"
      ]
     },
     "metadata": {
      "needs_background": "light"
     },
     "output_type": "display_data"
    }
   ],
   "source": [
    "\n",
    "# Distribution of stars column in selected cities\n",
    "\n",
    "sbn.histplot(data = selected_cities, x = 'stars')\n",
    "plt.title('Destribution of Stars in Cleaned Dataset')\n",
    "plt.show()"
   ]
  },
  {
   "cell_type": "code",
   "execution_count": 63,
   "metadata": {},
   "outputs": [
    {
     "data": {
      "image/png": "[encoded data removed]",
      "text/plain": [
       "<Figure size 1152x360 with 2 Axes>"
      ]
     },
     "metadata": {
      "needs_background": "light"
     },
     "output_type": "display_data"
    }
   ],
   "source": [
    "fig, ax = plt.subplots(ncols=2, figsize=(16, 5)) \n",
    "\n",
    "# Boxplot of stars by city for cleaned dataset\n",
    "sbn.boxplot(data=yelp_new, x='business_city', y='stars', ax=ax[0])\n",
    "ax[0].set_title('Distribution of Stars by City (Cleaned Dataset)')\n",
    "\n",
    "# Boxplot of stars by city for sampled dataset\n",
    "sbn.boxplot(data=selected_cities, x='business_city', y='stars', ax=ax[1])\n",
    "ax[1].set_title('Distribution of Stars by City (Sampled Dataset)')\n",
    "plt.show()"
   ]
  },
  {
   "cell_type": "markdown",
   "metadata": {},
   "source": [
    " Both boxplots show that there is some variation in the distribution of stars\n",
    "across different cities. For example, businesses in Las Vegas and Phoenix\n",
    "tend to have a wider range of ratings compared to other cities in both\n",
    "datasets. However, it's important to note that the sampled dataset has a\n",
    "smaller range of cities compared to the cleaned dataset, which may affect\n",
    "the results."
   ]
  }
 ],
 "metadata": {
  "kernelspec": {
   "display_name": "Python 3",
   "language": "python",
   "name": "python3"
  },
  "language_info": {
   "codemirror_mode": {
    "name": "ipython",
    "version": 3
   },
   "file_extension": ".py",
   "mimetype": "text/x-python",
   "name": "python",
   "nbconvert_exporter": "python",
   "pygments_lexer": "ipython3",
   "version": "3.8.5"
  }
 },
 "nbformat": 4,
 "nbformat_minor": 5
}
